{
 "cells": [
  {
   "cell_type": "code",
   "execution_count": 1,
   "id": "9a39ddf1",
   "metadata": {},
   "outputs": [
    {
     "name": "stdout",
     "output_type": "stream",
     "text": [
      "Hello world!\n"
     ]
    }
   ],
   "source": [
    "#This is my first jupyter code\n",
    "print(\"Hello world!\")"
   ]
  },
  {
   "cell_type": "markdown",
   "id": "3b504779",
   "metadata": {},
   "source": [
    "# First jupyter test\n",
    "\n",
    "This is a python test with jupyter!\n",
    "\n",
    "We can have different types: **bold**, *italic*, ~~a line~~, **something _really_ important** and also ***this***.\n",
    "\n",
    "We can add quotes:\n",
    "> This is an example\n"
   ]
  },
  {
   "cell_type": "markdown",
   "id": "8c945a6f",
   "metadata": {},
   "source": [
    "# More stuff\n",
    "\n",
    "Lets try lists:\n",
    "- One\n",
    "- Two\n",
    "- Three\n",
    "\n",
    "Nested lists:\n",
    "- One\n",
    "  - Two\n",
    "    - Three\n",
    "    \n",
    "Add task list:\n",
    "- [ ] Not checked\n",
    "- [x] Checked"
   ]
  },
  {
   "cell_type": "code",
   "execution_count": null,
   "id": "81bf8c8f",
   "metadata": {},
   "outputs": [],
   "source": []
  }
 ],
 "metadata": {
  "kernelspec": {
   "display_name": "Python 3",
   "language": "python",
   "name": "python3"
  },
  "language_info": {
   "codemirror_mode": {
    "name": "ipython",
    "version": 3
   },
   "file_extension": ".py",
   "mimetype": "text/x-python",
   "name": "python",
   "nbconvert_exporter": "python",
   "pygments_lexer": "ipython3",
   "version": "3.6.13"
  }
 },
 "nbformat": 4,
 "nbformat_minor": 5
}
