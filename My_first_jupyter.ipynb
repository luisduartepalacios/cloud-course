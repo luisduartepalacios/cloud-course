{
  "cells": [
    {
      "cell_type": "markdown",
      "metadata": {
        "id": "view-in-github",
        "colab_type": "text"
      },
      "source": [
        "<a href=\"https://colab.research.google.com/github/luisduartepalacios/cloud-course/blob/main/My_first_jupyter.ipynb\" target=\"_parent\"><img src=\"https://colab.research.google.com/assets/colab-badge.svg\" alt=\"Open In Colab\"/></a>"
      ]
    },
    {
      "cell_type": "code",
      "execution_count": 1,
      "id": "9a39ddf1",
      "metadata": {
        "colab": {
          "base_uri": "https://localhost:8080/"
        },
        "id": "9a39ddf1",
        "outputId": "1136d0b3-9f87-414e-84fa-b817b2c03f22"
      },
      "outputs": [
        {
          "output_type": "stream",
          "name": "stdout",
          "text": [
            "Hello world!\n"
          ]
        }
      ],
      "source": [
        "#This is my first jupyter code\n",
        "print(\"Hello world!\")"
      ]
    },
    {
      "cell_type": "markdown",
      "id": "3b504779",
      "metadata": {
        "id": "3b504779"
      },
      "source": [
        "# First jupyter test\n",
        "\n",
        "This is a python test with jupyter!\n",
        "\n",
        "We can have different types: **bold**, *italic*, ~~a line~~, **something _really_ important** and also ***this***.\n",
        "\n",
        "We can add quotes:\n",
        "> This is an example\n"
      ]
    },
    {
      "cell_type": "markdown",
      "id": "8c945a6f",
      "metadata": {
        "id": "8c945a6f"
      },
      "source": [
        "# More stuff\n",
        "\n",
        "Lets try lists:\n",
        "- One\n",
        "- Two\n",
        "- Three\n",
        "\n",
        "Nested lists:\n",
        "- One\n",
        "  - Two\n",
        "    - Three\n",
        "    \n",
        "Add task list:\n",
        "- [ ] Not checked\n",
        "- [x] Checked"
      ]
    },
    {
      "cell_type": "code",
      "execution_count": null,
      "id": "81bf8c8f",
      "metadata": {
        "id": "81bf8c8f"
      },
      "outputs": [],
      "source": [
        ""
      ]
    }
  ],
  "metadata": {
    "kernelspec": {
      "display_name": "Python 3",
      "language": "python",
      "name": "python3"
    },
    "language_info": {
      "codemirror_mode": {
        "name": "ipython",
        "version": 3
      },
      "file_extension": ".py",
      "mimetype": "text/x-python",
      "name": "python",
      "nbconvert_exporter": "python",
      "pygments_lexer": "ipython3",
      "version": "3.6.13"
    },
    "colab": {
      "name": "My first jupyter.ipynb",
      "provenance": [],
      "include_colab_link": true
    }
  },
  "nbformat": 4,
  "nbformat_minor": 5
}